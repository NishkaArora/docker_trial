{
 "cells": [
  {
   "cell_type": "code",
   "execution_count": 4,
   "id": "ac29bd75",
   "metadata": {},
   "outputs": [],
   "source": [
    "from tutorials.utils.tutorial_utils import setup_notebook\n",
    "setup_notebook()\n",
    "import os\n",
    "NUPLAN_DATA_ROOT = os.getenv('NUPLAN_DATA_ROOT', '../../nuplan/dataset')\n",
    "NUPLAN_MAPS_ROOT = os.getenv('NUPLAN_MAPS_ROOT', '../../nuplan/dataset/maps')\n",
    "NUPLAN_DB_FILES = os.getenv('NUPLAN_DB_FILES', '../../nuplan/dataset/nuplan-v1.1/splits/mini')\n",
    "NUPLAN_MAP_VERSION = os.getenv('NUPLAN_MAP_VERSION', 'nuplan-maps-v1.0')"
   ]
  },
  {
   "cell_type": "markdown",
   "id": "5d6a1d09",
   "metadata": {},
   "source": [
    "## Direct SQLite queries"
   ]
  },
  {
   "cell_type": "code",
   "execution_count": 7,
   "id": "d91d8525",
   "metadata": {},
   "outputs": [
    {
     "name": "stdout",
     "output_type": "stream",
     "text": [
      "The number of lidar_pcs in this log files is 10200.\n"
     ]
    }
   ],
   "source": [
    "from nuplan.database.nuplan_db.query_session import execute_one, execute_many\n",
    "\n",
    "query = \"\"\"\n",
    "SELECT COUNT(*) AS cnt\n",
    "FROM lidar_pc;\n",
    "\"\"\"\n",
    "\n",
    "log_db_name = \"2021.05.12.22.00.38_veh-35_01008_01518\"\n",
    "\n",
    "result = execute_one(query, (), os.path.join(NUPLAN_DB_FILES, f\"{log_db_name}.db\"))\n",
    "print(f\"The number of lidar_pcs in this log files is {result['cnt']}.\")"
   ]
  },
  {
   "cell_type": "code",
   "execution_count": 8,
   "id": "25d121a7",
   "metadata": {},
   "outputs": [
    {
     "name": "stdout",
     "output_type": "stream",
     "text": [
      "Lidar_pc token: e1e4ee25d1ff58f2.\n",
      "Ego pose: <664654.2126382107, 3999264.214758526, 606.4578471006269>.\n"
     ]
    }
   ],
   "source": [
    "example_token = \"e1e4ee25d1ff58f2\"\n",
    "query = \"\"\"\n",
    "SELECT ep.x AS ep_x,\n",
    "       ep.y AS ep_y,\n",
    "       ep.z AS ep_z,\n",
    "       lp.token AS token\n",
    "FROM ego_pose AS ep\n",
    "INNER JOIN lidar_pc AS lp\n",
    "  ON lp.ego_pose_token = ep.token\n",
    "WHERE lp.token = ?\n",
    "\"\"\"\n",
    "\n",
    "result = execute_one(\n",
    "    query, \n",
    "    (bytearray.fromhex(example_token),), \n",
    "    os.path.join(NUPLAN_DB_FILES, f\"{log_db_name}.db\")\n",
    ")\n",
    "\n",
    "print(f\"Lidar_pc token: {result['token'].hex()}.\")\n",
    "print(f\"Ego pose: <{result['ep_x']}, {result['ep_y']}, {result['ep_z']}>.\")"
   ]
  },
  {
   "cell_type": "code",
   "execution_count": null,
   "id": "bfdab7b8",
   "metadata": {},
   "outputs": [],
   "source": []
  }
 ],
 "metadata": {
  "kernelspec": {
   "display_name": "Python [conda env:nuplan] *",
   "language": "python",
   "name": "conda-env-nuplan-py"
  },
  "language_info": {
   "codemirror_mode": {
    "name": "ipython",
    "version": 3
   },
   "file_extension": ".py",
   "mimetype": "text/x-python",
   "name": "python",
   "nbconvert_exporter": "python",
   "pygments_lexer": "ipython3",
   "version": "3.9.16"
  }
 },
 "nbformat": 4,
 "nbformat_minor": 5
}
